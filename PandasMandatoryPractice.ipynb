{
  "nbformat": 4,
  "nbformat_minor": 0,
  "metadata": {
    "colab": {
      "provenance": [],
      "authorship_tag": "ABX9TyOfANAQGlH9SdJ/uxBM6Bnm",
      "include_colab_link": true
    },
    "kernelspec": {
      "name": "python3",
      "display_name": "Python 3"
    },
    "language_info": {
      "name": "python"
    }
  },
  "cells": [
    {
      "cell_type": "markdown",
      "metadata": {
        "id": "view-in-github",
        "colab_type": "text"
      },
      "source": [
        "<a href=\"https://colab.research.google.com/github/Maximiliano-alt/Intelligent-Systems/blob/master/PandasMandatoryPractice.ipynb\" target=\"_parent\"><img src=\"https://colab.research.google.com/assets/colab-badge.svg\" alt=\"Open In Colab\"/></a>"
      ]
    },
    {
      "cell_type": "markdown",
      "source": [
        "EXERCISE 1\n",
        "\n",
        "Show the first 10 samples of the dataset.\n"
      ],
      "metadata": {
        "id": "ITrseRi-Te69"
      }
    },
    {
      "cell_type": "code",
      "execution_count": 53,
      "metadata": {
        "colab": {
          "base_uri": "https://localhost:8080/"
        },
        "id": "wmr-p-ohSZBZ",
        "outputId": "1ea726df-3302-4c0d-be7d-5372d0e58629"
      },
      "outputs": [
        {
          "output_type": "stream",
          "name": "stdout",
          "text": [
            "Drive already mounted at /content/drive; to attempt to forcibly remount, call drive.mount(\"/content/drive\", force_remount=True).\n",
            "           model  year  price transmission  mileage fuelType  tax   mpg  \\\n",
            "0       5 Series  2014  11200    Automatic    67068   Diesel  125  57.6   \n",
            "1       6 Series  2018  27000    Automatic    14827   Petrol  145  42.8   \n",
            "2       5 Series  2016  16000    Automatic    62794   Diesel  160  51.4   \n",
            "3       1 Series  2017  12750    Automatic    26676   Diesel  145  72.4   \n",
            "4       7 Series  2014  14500    Automatic    39554   Diesel  160  50.4   \n",
            "...          ...   ...    ...          ...      ...      ...  ...   ...   \n",
            "10776         X3  2016  19000    Automatic    40818   Diesel  150  54.3   \n",
            "10777   5 Series  2016  14600    Automatic    42947   Diesel  125  60.1   \n",
            "10778   3 Series  2017  13100       Manual    25468   Petrol  200  42.8   \n",
            "10779   1 Series  2014   9930    Automatic    45000   Diesel   30  64.2   \n",
            "10780         X1  2017  15981    Automatic    59432   Diesel  125  57.6   \n",
            "\n",
            "       engineSize  \n",
            "0             2.0  \n",
            "1             2.0  \n",
            "2             3.0  \n",
            "3             1.5  \n",
            "4             3.0  \n",
            "...           ...  \n",
            "10776         2.0  \n",
            "10777         2.0  \n",
            "10778         2.0  \n",
            "10779         2.0  \n",
            "10780         2.0  \n",
            "\n",
            "[10781 rows x 9 columns]\n"
          ]
        }
      ],
      "source": [
        "import pandas as pd\n",
        "#Connect to Google Drive\n",
        "from google.colab import drive\n",
        "drive.mount('/content/drive')\n",
        "df = pd.read_csv('/content/drive/MyDrive/Colab Notebooks/bmw.csv')\n",
        "print(df)"
      ]
    },
    {
      "cell_type": "markdown",
      "source": [
        "EXERCISE 2\n",
        "\n",
        "Obtain the data series corresponding to the year attribute, and then obtain the data type and the number of samples of such series."
      ],
      "metadata": {
        "id": "11_F-PPZbU7l"
      }
    },
    {
      "cell_type": "code",
      "source": [
        "year_series = df['year']\n",
        "\n",
        "print(\"Data frame:\\n\", year_series)\n"
      ],
      "metadata": {
        "colab": {
          "base_uri": "https://localhost:8080/"
        },
        "id": "BakgDi2qXjb4",
        "outputId": "abfb2330-35a2-4cb6-fb75-7fa01bd69c16"
      },
      "execution_count": null,
      "outputs": [
        {
          "output_type": "stream",
          "name": "stdout",
          "text": [
            "Data frame:\n",
            " 0        2014\n",
            "1        2018\n",
            "2        2016\n",
            "3        2017\n",
            "4        2014\n",
            "         ... \n",
            "10776    2016\n",
            "10777    2016\n",
            "10778    2017\n",
            "10779    2014\n",
            "10780    2017\n",
            "Name: year, Length: 10781, dtype: int64\n"
          ]
        }
      ]
    },
    {
      "cell_type": "markdown",
      "source": [
        "EXERCISE 3\n",
        "\n",
        "Obtain the data series corresponding to the mileage attribute, and then select the samples whose position in the series are multiples of 7."
      ],
      "metadata": {
        "id": "qJzaFR1pbXEC"
      }
    },
    {
      "cell_type": "code",
      "source": [
        "mileage_series = df['mileage']\n",
        "selected_samples = mileage_series[mileage_series.index % 7 == 0]\n",
        "print( selected_samples)\n"
      ],
      "metadata": {
        "colab": {
          "base_uri": "https://localhost:8080/"
        },
        "id": "K52jxH8rbYK4",
        "outputId": "6b564a3c-55d0-4556-ebd0-eb66db7b4156"
      },
      "execution_count": null,
      "outputs": [
        {
          "output_type": "stream",
          "name": "stdout",
          "text": [
            "0        67068\n",
            "7        10401\n",
            "14       19057\n",
            "21       78957\n",
            "28       96213\n",
            "         ...  \n",
            "10752    41500\n",
            "10759    54008\n",
            "10766    54987\n",
            "10773    60372\n",
            "10780    59432\n",
            "Name: mileage, Length: 1541, dtype: int64\n"
          ]
        }
      ]
    },
    {
      "cell_type": "markdown",
      "source": [
        "EXERCISE 4\n",
        "\n",
        "Obtain the data series corresponding to the mileage attribute, and then select randomly 40% of the samples of the series."
      ],
      "metadata": {
        "id": "HOwVC3MkdIYy"
      }
    },
    {
      "cell_type": "code",
      "source": [
        "selected_samples = mileage_series.sample(frac=0.4)\n",
        "print(selected_samples)"
      ],
      "metadata": {
        "colab": {
          "base_uri": "https://localhost:8080/"
        },
        "id": "n7fPnG54dJ0H",
        "outputId": "bd74f318-da0a-4d2e-92c7-897bbc7dfabc"
      },
      "execution_count": null,
      "outputs": [
        {
          "output_type": "stream",
          "name": "stdout",
          "text": [
            "6736      6370\n",
            "1046      8524\n",
            "10343    32383\n",
            "894       7390\n",
            "8923     93240\n",
            "         ...  \n",
            "6547        10\n",
            "8139     94938\n",
            "10642    11476\n",
            "636       5203\n",
            "6557     16127\n",
            "Name: mileage, Length: 4312, dtype: int64\n"
          ]
        }
      ]
    },
    {
      "cell_type": "markdown",
      "source": [
        "EXERCISE 5\n",
        "\n",
        "Obtain the data series corresponding to the mileage attribute, and then select the samples with a value lower than 20000 of that series."
      ],
      "metadata": {
        "id": "6xTxHfIXfH98"
      }
    },
    {
      "cell_type": "code",
      "source": [
        "selected_samples = mileage_series[mileage_series < 20000]\n",
        "print(selected_samples)"
      ],
      "metadata": {
        "colab": {
          "base_uri": "https://localhost:8080/"
        },
        "id": "8hhGdksNfJiJ",
        "outputId": "6e925f40-9f45-48a7-8f5a-7c83d064312f"
      },
      "execution_count": null,
      "outputs": [
        {
          "output_type": "stream",
          "name": "stdout",
          "text": [
            "1        14827\n",
            "7        10401\n",
            "14       19057\n",
            "15       16570\n",
            "39        6522\n",
            "         ...  \n",
            "10740     3551\n",
            "10741     2784\n",
            "10742     5634\n",
            "10743    13165\n",
            "10755    13955\n",
            "Name: mileage, Length: 5610, dtype: int64\n"
          ]
        }
      ]
    },
    {
      "cell_type": "markdown",
      "source": [
        "EXERCISE 6\n",
        "\n",
        "Obtain the data series corresponding to the mpg attribute, and then sort the samples of the series."
      ],
      "metadata": {
        "id": "_1SxUlMJgL5O"
      }
    },
    {
      "cell_type": "code",
      "source": [
        "\n",
        "mpg_series = df['mpg']\n",
        "sorted_samples = mpg_series.sort_values()\n",
        "print(sorted_samples)"
      ],
      "metadata": {
        "colab": {
          "base_uri": "https://localhost:8080/"
        },
        "id": "qxwEXd8rgQsh",
        "outputId": "894639f8-954e-4ab0-c810-dffbb78757db"
      },
      "execution_count": null,
      "outputs": [
        {
          "output_type": "stream",
          "name": "stdout",
          "text": [
            "Muestras ordenadas:\n",
            "6965      5.5\n",
            "6172      5.5\n",
            "6132      5.5\n",
            "6198      5.5\n",
            "2116      5.5\n",
            "        ...  \n",
            "7299    470.8\n",
            "3628    470.8\n",
            "6070    470.8\n",
            "2352    470.8\n",
            "7347    470.8\n",
            "Name: mpg, Length: 10781, dtype: float64\n"
          ]
        }
      ]
    },
    {
      "cell_type": "markdown",
      "source": [
        "EXERCISE 7\n",
        "\n",
        "Compute the mean, the standard deviation, the maximum and the minimum of the engineSize attribute."
      ],
      "metadata": {
        "id": "ZKNaqbu-hwK6"
      }
    },
    {
      "cell_type": "code",
      "source": [
        "\n",
        "mean_engineSize = df['engineSize'].mean()\n",
        "\n",
        "\n",
        "std_dev_engineSize = df['engineSize'].std()\n",
        "\n",
        "max_engineSize = df['engineSize'].max()\n",
        "\n",
        "min_engineSize = df['engineSize'].min()\n",
        "\n",
        "\n",
        "print(\"Mean engineSize:\", mean_engineSize)\n",
        "print(\"Standard Deviation de engineSize:\", std_dev_engineSize)\n",
        "print(\"Max engineSize:\", max_engineSize)\n",
        "print(\"Min engineSize:\", min_engineSize)"
      ],
      "metadata": {
        "colab": {
          "base_uri": "https://localhost:8080/"
        },
        "id": "I-cwdBtWhy7c",
        "outputId": "564ca557-b3bc-4bf3-dbb9-986d6e52b1d3"
      },
      "execution_count": null,
      "outputs": [
        {
          "output_type": "stream",
          "name": "stdout",
          "text": [
            "Mean engineSize: 2.1677673685186902\n",
            "Standard Deviation de engineSize: 0.5520537772398375\n",
            "Max engineSize: 6.6\n",
            "Min engineSize: 0.0\n"
          ]
        }
      ]
    },
    {
      "cell_type": "markdown",
      "source": [
        "EXERCISE 8\n",
        "\n",
        "Obtain the number of rows and columns of the dataset, and the third sample starting from the end."
      ],
      "metadata": {
        "id": "JrMV3np-2LsK"
      }
    },
    {
      "cell_type": "code",
      "source": [
        "num_rows, num_cols = df.shape\n",
        "print(\"\\nNumber of rows:\", num_rows)\n",
        "print(\"Number of columns:\", num_cols)\n",
        "\n",
        "third_from_end = df.iloc[-3] # Purely integer-location based indexing for selection by position.\n",
        "print(\"\\nThird Sample starting from the end:\")\n",
        "print(third_from_end)\n"
      ],
      "metadata": {
        "colab": {
          "base_uri": "https://localhost:8080/"
        },
        "id": "tD7_7d9s2LSx",
        "outputId": "41a7f995-32b0-42cd-e6e0-df073ac8b1b2"
      },
      "execution_count": null,
      "outputs": [
        {
          "output_type": "stream",
          "name": "stdout",
          "text": [
            "\n",
            "Number of rows: 10781\n",
            "Number of columns: 9\n",
            "\n",
            "Third Sample starting from the end:\n",
            "model            3 Series\n",
            "year                 2017\n",
            "price               13100\n",
            "transmission       Manual\n",
            "mileage             25468\n",
            "fuelType           Petrol\n",
            "tax                   200\n",
            "mpg                  42.8\n",
            "engineSize            2.0\n",
            "Name: 10778, dtype: object\n"
          ]
        }
      ]
    },
    {
      "cell_type": "markdown",
      "source": [
        "EXERCISE 9\n",
        "\n",
        "Extract the mileage, price and mpg attributes to a new DataFrame, and then choose 20% of the samples at random."
      ],
      "metadata": {
        "id": "fHMmEb-y4T-i"
      }
    },
    {
      "cell_type": "code",
      "source": [
        "selected_columns = ['mileage', 'price', 'mpg']\n",
        "new_df = df[selected_columns]\n",
        "print(\"\\nNew DataFrame using 'mileage', 'price' y 'mpg':\")\n",
        "print(new_df.head())\n",
        "\n",
        "random_sample_df = new_df.sample(frac=0.2)\n",
        "print(\"\\nRandom Sample 20%:\")\n",
        "print(random_sample_df)"
      ],
      "metadata": {
        "id": "D3yz4EZz4WwJ",
        "colab": {
          "base_uri": "https://localhost:8080/"
        },
        "outputId": "ddf0acd4-b8ec-4170-972f-674b0295a613"
      },
      "execution_count": 2,
      "outputs": [
        {
          "output_type": "stream",
          "name": "stdout",
          "text": [
            "\n",
            "New DataFrame using 'mileage', 'price' y 'mpg':\n",
            "   mileage  price   mpg\n",
            "0    67068  11200  57.6\n",
            "1    14827  27000  42.8\n",
            "2    62794  16000  51.4\n",
            "3    26676  12750  72.4\n",
            "4    39554  14500  50.4\n",
            "\n",
            "Random Sample 20%:\n",
            "       mileage  price   mpg\n",
            "1645       123  34368  34.0\n",
            "5209      2500  35995  62.8\n",
            "1688       123  21773  49.6\n",
            "4223      6552  36480  53.3\n",
            "3808       101  38000  49.6\n",
            "...        ...    ...   ...\n",
            "10040    85000   7740  83.1\n",
            "9589     29041  15999  65.7\n",
            "7346     24862  15685  64.2\n",
            "1827      7311  27280  42.2\n",
            "9637     46003  16895  51.4\n",
            "\n",
            "[2156 rows x 3 columns]\n"
          ]
        }
      ]
    },
    {
      "cell_type": "markdown",
      "source": [
        "EXERCISE 10\n",
        "Obtain the samples whose value of the mileage attribute is lower than 10000 and the value of the mpg attribute is higher than 40.\n"
      ],
      "metadata": {
        "id": "idz6Zq0w03Cf"
      }
    },
    {
      "cell_type": "code",
      "source": [
        "filtered_df = df[(df['mileage'] < 10000) & (df['mpg'] > 40)]\n",
        "\n",
        "print(\"\\nSamples with 'mileage' < 10000 y 'mpg' > 40:\")\n",
        "print(filtered_df)"
      ],
      "metadata": {
        "colab": {
          "base_uri": "https://localhost:8080/",
          "height": 453
        },
        "id": "DZj0WXb01pr5",
        "outputId": "a8b254ec-8c8e-457a-db14-66ae89e95f64"
      },
      "execution_count": 17,
      "outputs": [
        {
          "output_type": "stream",
          "name": "stdout",
          "text": [
            "\n",
            "Samples with 'mileage' < 10000 y 'mpg' > 40:\n"
          ]
        },
        {
          "output_type": "execute_result",
          "data": {
            "text/plain": [
              "           model  year  price transmission  mileage fuelType  tax   mpg  \\\n",
              "131     1 Series  2017  14600    Automatic     5615   Petrol  145  58.9   \n",
              "148     1 Series  2016  13700       Manual     8719   Petrol  125  52.3   \n",
              "153     1 Series  2016  13750    Automatic     8707   Petrol   30  55.5   \n",
              "166           X1  2020  31498    Semi-Auto     1560   Diesel  145  60.1   \n",
              "167     2 Series  2020  27998       Manual     1580   Petrol  150  43.5   \n",
              "...          ...   ...    ...          ...      ...      ...  ...   ...   \n",
              "10713   3 Series  2020  23899    Automatic     1255   Petrol  150  47.9   \n",
              "10739   3 Series  2019  23987    Automatic     1049   Petrol  150  47.9   \n",
              "10740   3 Series  2019  23454    Automatic     3551   Petrol  150  47.9   \n",
              "10741   3 Series  2019  23599    Automatic     2784   Petrol  145  47.9   \n",
              "10742   3 Series  2019  23499    Automatic     5634   Petrol  145  47.9   \n",
              "\n",
              "       engineSize  \n",
              "131           1.5  \n",
              "148           1.5  \n",
              "153           1.5  \n",
              "166           2.0  \n",
              "167           1.5  \n",
              "...           ...  \n",
              "10713         2.0  \n",
              "10739         2.0  \n",
              "10740         2.0  \n",
              "10741         2.0  \n",
              "10742         2.0  \n",
              "\n",
              "[3079 rows x 9 columns]"
            ],
            "text/html": [
              "\n",
              "  <div id=\"df-e1925dd2-090f-4795-8f0b-5f6d7acb2668\" class=\"colab-df-container\">\n",
              "    <div>\n",
              "<style scoped>\n",
              "    .dataframe tbody tr th:only-of-type {\n",
              "        vertical-align: middle;\n",
              "    }\n",
              "\n",
              "    .dataframe tbody tr th {\n",
              "        vertical-align: top;\n",
              "    }\n",
              "\n",
              "    .dataframe thead th {\n",
              "        text-align: right;\n",
              "    }\n",
              "</style>\n",
              "<table border=\"1\" class=\"dataframe\">\n",
              "  <thead>\n",
              "    <tr style=\"text-align: right;\">\n",
              "      <th></th>\n",
              "      <th>model</th>\n",
              "      <th>year</th>\n",
              "      <th>price</th>\n",
              "      <th>transmission</th>\n",
              "      <th>mileage</th>\n",
              "      <th>fuelType</th>\n",
              "      <th>tax</th>\n",
              "      <th>mpg</th>\n",
              "      <th>engineSize</th>\n",
              "    </tr>\n",
              "  </thead>\n",
              "  <tbody>\n",
              "    <tr>\n",
              "      <th>131</th>\n",
              "      <td>1 Series</td>\n",
              "      <td>2017</td>\n",
              "      <td>14600</td>\n",
              "      <td>Automatic</td>\n",
              "      <td>5615</td>\n",
              "      <td>Petrol</td>\n",
              "      <td>145</td>\n",
              "      <td>58.9</td>\n",
              "      <td>1.5</td>\n",
              "    </tr>\n",
              "    <tr>\n",
              "      <th>148</th>\n",
              "      <td>1 Series</td>\n",
              "      <td>2016</td>\n",
              "      <td>13700</td>\n",
              "      <td>Manual</td>\n",
              "      <td>8719</td>\n",
              "      <td>Petrol</td>\n",
              "      <td>125</td>\n",
              "      <td>52.3</td>\n",
              "      <td>1.5</td>\n",
              "    </tr>\n",
              "    <tr>\n",
              "      <th>153</th>\n",
              "      <td>1 Series</td>\n",
              "      <td>2016</td>\n",
              "      <td>13750</td>\n",
              "      <td>Automatic</td>\n",
              "      <td>8707</td>\n",
              "      <td>Petrol</td>\n",
              "      <td>30</td>\n",
              "      <td>55.5</td>\n",
              "      <td>1.5</td>\n",
              "    </tr>\n",
              "    <tr>\n",
              "      <th>166</th>\n",
              "      <td>X1</td>\n",
              "      <td>2020</td>\n",
              "      <td>31498</td>\n",
              "      <td>Semi-Auto</td>\n",
              "      <td>1560</td>\n",
              "      <td>Diesel</td>\n",
              "      <td>145</td>\n",
              "      <td>60.1</td>\n",
              "      <td>2.0</td>\n",
              "    </tr>\n",
              "    <tr>\n",
              "      <th>167</th>\n",
              "      <td>2 Series</td>\n",
              "      <td>2020</td>\n",
              "      <td>27998</td>\n",
              "      <td>Manual</td>\n",
              "      <td>1580</td>\n",
              "      <td>Petrol</td>\n",
              "      <td>150</td>\n",
              "      <td>43.5</td>\n",
              "      <td>1.5</td>\n",
              "    </tr>\n",
              "    <tr>\n",
              "      <th>...</th>\n",
              "      <td>...</td>\n",
              "      <td>...</td>\n",
              "      <td>...</td>\n",
              "      <td>...</td>\n",
              "      <td>...</td>\n",
              "      <td>...</td>\n",
              "      <td>...</td>\n",
              "      <td>...</td>\n",
              "      <td>...</td>\n",
              "    </tr>\n",
              "    <tr>\n",
              "      <th>10713</th>\n",
              "      <td>3 Series</td>\n",
              "      <td>2020</td>\n",
              "      <td>23899</td>\n",
              "      <td>Automatic</td>\n",
              "      <td>1255</td>\n",
              "      <td>Petrol</td>\n",
              "      <td>150</td>\n",
              "      <td>47.9</td>\n",
              "      <td>2.0</td>\n",
              "    </tr>\n",
              "    <tr>\n",
              "      <th>10739</th>\n",
              "      <td>3 Series</td>\n",
              "      <td>2019</td>\n",
              "      <td>23987</td>\n",
              "      <td>Automatic</td>\n",
              "      <td>1049</td>\n",
              "      <td>Petrol</td>\n",
              "      <td>150</td>\n",
              "      <td>47.9</td>\n",
              "      <td>2.0</td>\n",
              "    </tr>\n",
              "    <tr>\n",
              "      <th>10740</th>\n",
              "      <td>3 Series</td>\n",
              "      <td>2019</td>\n",
              "      <td>23454</td>\n",
              "      <td>Automatic</td>\n",
              "      <td>3551</td>\n",
              "      <td>Petrol</td>\n",
              "      <td>150</td>\n",
              "      <td>47.9</td>\n",
              "      <td>2.0</td>\n",
              "    </tr>\n",
              "    <tr>\n",
              "      <th>10741</th>\n",
              "      <td>3 Series</td>\n",
              "      <td>2019</td>\n",
              "      <td>23599</td>\n",
              "      <td>Automatic</td>\n",
              "      <td>2784</td>\n",
              "      <td>Petrol</td>\n",
              "      <td>145</td>\n",
              "      <td>47.9</td>\n",
              "      <td>2.0</td>\n",
              "    </tr>\n",
              "    <tr>\n",
              "      <th>10742</th>\n",
              "      <td>3 Series</td>\n",
              "      <td>2019</td>\n",
              "      <td>23499</td>\n",
              "      <td>Automatic</td>\n",
              "      <td>5634</td>\n",
              "      <td>Petrol</td>\n",
              "      <td>145</td>\n",
              "      <td>47.9</td>\n",
              "      <td>2.0</td>\n",
              "    </tr>\n",
              "  </tbody>\n",
              "</table>\n",
              "<p>3079 rows × 9 columns</p>\n",
              "</div>\n",
              "    <div class=\"colab-df-buttons\">\n",
              "\n",
              "  <div class=\"colab-df-container\">\n",
              "    <button class=\"colab-df-convert\" onclick=\"convertToInteractive('df-e1925dd2-090f-4795-8f0b-5f6d7acb2668')\"\n",
              "            title=\"Convert this dataframe to an interactive table.\"\n",
              "            style=\"display:none;\">\n",
              "\n",
              "  <svg xmlns=\"http://www.w3.org/2000/svg\" height=\"24px\" viewBox=\"0 -960 960 960\">\n",
              "    <path d=\"M120-120v-720h720v720H120Zm60-500h600v-160H180v160Zm220 220h160v-160H400v160Zm0 220h160v-160H400v160ZM180-400h160v-160H180v160Zm440 0h160v-160H620v160ZM180-180h160v-160H180v160Zm440 0h160v-160H620v160Z\"/>\n",
              "  </svg>\n",
              "    </button>\n",
              "\n",
              "  <style>\n",
              "    .colab-df-container {\n",
              "      display:flex;\n",
              "      gap: 12px;\n",
              "    }\n",
              "\n",
              "    .colab-df-convert {\n",
              "      background-color: #E8F0FE;\n",
              "      border: none;\n",
              "      border-radius: 50%;\n",
              "      cursor: pointer;\n",
              "      display: none;\n",
              "      fill: #1967D2;\n",
              "      height: 32px;\n",
              "      padding: 0 0 0 0;\n",
              "      width: 32px;\n",
              "    }\n",
              "\n",
              "    .colab-df-convert:hover {\n",
              "      background-color: #E2EBFA;\n",
              "      box-shadow: 0px 1px 2px rgba(60, 64, 67, 0.3), 0px 1px 3px 1px rgba(60, 64, 67, 0.15);\n",
              "      fill: #174EA6;\n",
              "    }\n",
              "\n",
              "    .colab-df-buttons div {\n",
              "      margin-bottom: 4px;\n",
              "    }\n",
              "\n",
              "    [theme=dark] .colab-df-convert {\n",
              "      background-color: #3B4455;\n",
              "      fill: #D2E3FC;\n",
              "    }\n",
              "\n",
              "    [theme=dark] .colab-df-convert:hover {\n",
              "      background-color: #434B5C;\n",
              "      box-shadow: 0px 1px 3px 1px rgba(0, 0, 0, 0.15);\n",
              "      filter: drop-shadow(0px 1px 2px rgba(0, 0, 0, 0.3));\n",
              "      fill: #FFFFFF;\n",
              "    }\n",
              "  </style>\n",
              "\n",
              "    <script>\n",
              "      const buttonEl =\n",
              "        document.querySelector('#df-e1925dd2-090f-4795-8f0b-5f6d7acb2668 button.colab-df-convert');\n",
              "      buttonEl.style.display =\n",
              "        google.colab.kernel.accessAllowed ? 'block' : 'none';\n",
              "\n",
              "      async function convertToInteractive(key) {\n",
              "        const element = document.querySelector('#df-e1925dd2-090f-4795-8f0b-5f6d7acb2668');\n",
              "        const dataTable =\n",
              "          await google.colab.kernel.invokeFunction('convertToInteractive',\n",
              "                                                    [key], {});\n",
              "        if (!dataTable) return;\n",
              "\n",
              "        const docLinkHtml = 'Like what you see? Visit the ' +\n",
              "          '<a target=\"_blank\" href=https://colab.research.google.com/notebooks/data_table.ipynb>data table notebook</a>'\n",
              "          + ' to learn more about interactive tables.';\n",
              "        element.innerHTML = '';\n",
              "        dataTable['output_type'] = 'display_data';\n",
              "        await google.colab.output.renderOutput(dataTable, element);\n",
              "        const docLink = document.createElement('div');\n",
              "        docLink.innerHTML = docLinkHtml;\n",
              "        element.appendChild(docLink);\n",
              "      }\n",
              "    </script>\n",
              "  </div>\n",
              "\n",
              "\n",
              "<div id=\"df-575bf2df-575f-4088-88aa-87325e44e35a\">\n",
              "  <button class=\"colab-df-quickchart\" onclick=\"quickchart('df-575bf2df-575f-4088-88aa-87325e44e35a')\"\n",
              "            title=\"Suggest charts\"\n",
              "            style=\"display:none;\">\n",
              "\n",
              "<svg xmlns=\"http://www.w3.org/2000/svg\" height=\"24px\"viewBox=\"0 0 24 24\"\n",
              "     width=\"24px\">\n",
              "    <g>\n",
              "        <path d=\"M19 3H5c-1.1 0-2 .9-2 2v14c0 1.1.9 2 2 2h14c1.1 0 2-.9 2-2V5c0-1.1-.9-2-2-2zM9 17H7v-7h2v7zm4 0h-2V7h2v10zm4 0h-2v-4h2v4z\"/>\n",
              "    </g>\n",
              "</svg>\n",
              "  </button>\n",
              "\n",
              "<style>\n",
              "  .colab-df-quickchart {\n",
              "      --bg-color: #E8F0FE;\n",
              "      --fill-color: #1967D2;\n",
              "      --hover-bg-color: #E2EBFA;\n",
              "      --hover-fill-color: #174EA6;\n",
              "      --disabled-fill-color: #AAA;\n",
              "      --disabled-bg-color: #DDD;\n",
              "  }\n",
              "\n",
              "  [theme=dark] .colab-df-quickchart {\n",
              "      --bg-color: #3B4455;\n",
              "      --fill-color: #D2E3FC;\n",
              "      --hover-bg-color: #434B5C;\n",
              "      --hover-fill-color: #FFFFFF;\n",
              "      --disabled-bg-color: #3B4455;\n",
              "      --disabled-fill-color: #666;\n",
              "  }\n",
              "\n",
              "  .colab-df-quickchart {\n",
              "    background-color: var(--bg-color);\n",
              "    border: none;\n",
              "    border-radius: 50%;\n",
              "    cursor: pointer;\n",
              "    display: none;\n",
              "    fill: var(--fill-color);\n",
              "    height: 32px;\n",
              "    padding: 0;\n",
              "    width: 32px;\n",
              "  }\n",
              "\n",
              "  .colab-df-quickchart:hover {\n",
              "    background-color: var(--hover-bg-color);\n",
              "    box-shadow: 0 1px 2px rgba(60, 64, 67, 0.3), 0 1px 3px 1px rgba(60, 64, 67, 0.15);\n",
              "    fill: var(--button-hover-fill-color);\n",
              "  }\n",
              "\n",
              "  .colab-df-quickchart-complete:disabled,\n",
              "  .colab-df-quickchart-complete:disabled:hover {\n",
              "    background-color: var(--disabled-bg-color);\n",
              "    fill: var(--disabled-fill-color);\n",
              "    box-shadow: none;\n",
              "  }\n",
              "\n",
              "  .colab-df-spinner {\n",
              "    border: 2px solid var(--fill-color);\n",
              "    border-color: transparent;\n",
              "    border-bottom-color: var(--fill-color);\n",
              "    animation:\n",
              "      spin 1s steps(1) infinite;\n",
              "  }\n",
              "\n",
              "  @keyframes spin {\n",
              "    0% {\n",
              "      border-color: transparent;\n",
              "      border-bottom-color: var(--fill-color);\n",
              "      border-left-color: var(--fill-color);\n",
              "    }\n",
              "    20% {\n",
              "      border-color: transparent;\n",
              "      border-left-color: var(--fill-color);\n",
              "      border-top-color: var(--fill-color);\n",
              "    }\n",
              "    30% {\n",
              "      border-color: transparent;\n",
              "      border-left-color: var(--fill-color);\n",
              "      border-top-color: var(--fill-color);\n",
              "      border-right-color: var(--fill-color);\n",
              "    }\n",
              "    40% {\n",
              "      border-color: transparent;\n",
              "      border-right-color: var(--fill-color);\n",
              "      border-top-color: var(--fill-color);\n",
              "    }\n",
              "    60% {\n",
              "      border-color: transparent;\n",
              "      border-right-color: var(--fill-color);\n",
              "    }\n",
              "    80% {\n",
              "      border-color: transparent;\n",
              "      border-right-color: var(--fill-color);\n",
              "      border-bottom-color: var(--fill-color);\n",
              "    }\n",
              "    90% {\n",
              "      border-color: transparent;\n",
              "      border-bottom-color: var(--fill-color);\n",
              "    }\n",
              "  }\n",
              "</style>\n",
              "\n",
              "  <script>\n",
              "    async function quickchart(key) {\n",
              "      const quickchartButtonEl =\n",
              "        document.querySelector('#' + key + ' button');\n",
              "      quickchartButtonEl.disabled = true;  // To prevent multiple clicks.\n",
              "      quickchartButtonEl.classList.add('colab-df-spinner');\n",
              "      try {\n",
              "        const charts = await google.colab.kernel.invokeFunction(\n",
              "            'suggestCharts', [key], {});\n",
              "      } catch (error) {\n",
              "        console.error('Error during call to suggestCharts:', error);\n",
              "      }\n",
              "      quickchartButtonEl.classList.remove('colab-df-spinner');\n",
              "      quickchartButtonEl.classList.add('colab-df-quickchart-complete');\n",
              "    }\n",
              "    (() => {\n",
              "      let quickchartButtonEl =\n",
              "        document.querySelector('#df-575bf2df-575f-4088-88aa-87325e44e35a button');\n",
              "      quickchartButtonEl.style.display =\n",
              "        google.colab.kernel.accessAllowed ? 'block' : 'none';\n",
              "    })();\n",
              "  </script>\n",
              "</div>\n",
              "    </div>\n",
              "  </div>\n"
            ],
            "application/vnd.google.colaboratory.intrinsic+json": {
              "type": "dataframe",
              "variable_name": "filtered_df",
              "summary": "{\n  \"name\": \"filtered_df\",\n  \"rows\": 3079,\n  \"fields\": [\n    {\n      \"column\": \"model\",\n      \"properties\": {\n        \"dtype\": \"category\",\n        \"num_unique_values\": 16,\n        \"samples\": [\n          \" 1 Series\",\n          \" X1\",\n          \" 3 Series\"\n        ],\n        \"semantic_type\": \"\",\n        \"description\": \"\"\n      }\n    },\n    {\n      \"column\": \"year\",\n      \"properties\": {\n        \"dtype\": \"number\",\n        \"std\": 0,\n        \"min\": 2013,\n        \"max\": 2020,\n        \"num_unique_values\": 8,\n        \"samples\": [\n          2016,\n          2015,\n          2017\n        ],\n        \"semantic_type\": \"\",\n        \"description\": \"\"\n      }\n    },\n    {\n      \"column\": \"price\",\n      \"properties\": {\n        \"dtype\": \"number\",\n        \"std\": 7114,\n        \"min\": 11600,\n        \"max\": 74226,\n        \"num_unique_values\": 1353,\n        \"samples\": [\n          35900,\n          38980,\n          27685\n        ],\n        \"semantic_type\": \"\",\n        \"description\": \"\"\n      }\n    },\n    {\n      \"column\": \"transmission\",\n      \"properties\": {\n        \"dtype\": \"category\",\n        \"num_unique_values\": 3,\n        \"samples\": [\n          \"Automatic\",\n          \"Manual\",\n          \"Semi-Auto\"\n        ],\n        \"semantic_type\": \"\",\n        \"description\": \"\"\n      }\n    },\n    {\n      \"column\": \"mileage\",\n      \"properties\": {\n        \"dtype\": \"number\",\n        \"std\": 3077,\n        \"min\": 1,\n        \"max\": 9992,\n        \"num_unique_values\": 1938,\n        \"samples\": [\n          5177,\n          4622,\n          3630\n        ],\n        \"semantic_type\": \"\",\n        \"description\": \"\"\n      }\n    },\n    {\n      \"column\": \"fuelType\",\n      \"properties\": {\n        \"dtype\": \"category\",\n        \"num_unique_values\": 4,\n        \"samples\": [\n          \"Diesel\",\n          \"Electric\",\n          \"Petrol\"\n        ],\n        \"semantic_type\": \"\",\n        \"description\": \"\"\n      }\n    },\n    {\n      \"column\": \"tax\",\n      \"properties\": {\n        \"dtype\": \"number\",\n        \"std\": 12,\n        \"min\": 0,\n        \"max\": 205,\n        \"num_unique_values\": 12,\n        \"samples\": [\n          20,\n          0,\n          145\n        ],\n        \"semantic_type\": \"\",\n        \"description\": \"\"\n      }\n    },\n    {\n      \"column\": \"mpg\",\n      \"properties\": {\n        \"dtype\": \"number\",\n        \"std\": 21.960730912318343,\n        \"min\": 40.4,\n        \"max\": 470.8,\n        \"num_unique_values\": 44,\n        \"samples\": [\n          74.3,\n          72.4,\n          40.4\n        ],\n        \"semantic_type\": \"\",\n        \"description\": \"\"\n      }\n    },\n    {\n      \"column\": \"engineSize\",\n      \"properties\": {\n        \"dtype\": \"number\",\n        \"std\": 0.40328328728929486,\n        \"min\": 0.0,\n        \"max\": 3.0,\n        \"num_unique_values\": 5,\n        \"samples\": [\n          2.0,\n          1.6,\n          3.0\n        ],\n        \"semantic_type\": \"\",\n        \"description\": \"\"\n      }\n    }\n  ]\n}"
            }
          },
          "metadata": {},
          "execution_count": 17
        }
      ]
    },
    {
      "cell_type": "markdown",
      "source": [
        "EXERCISE 11: Modify the values of the model attribute so that the \" x Series\" values are changed to \"Series x\", where x is a number between 1 and 9."
      ],
      "metadata": {
        "id": "PdYxfTUvSVA9"
      }
    },
    {
      "cell_type": "code",
      "source": [
        "\n",
        "df['model'] = df['model'].str.replace(r'(\\d) Series', r'Series \\1', regex=True)\n",
        "print(df)"
      ],
      "metadata": {
        "colab": {
          "base_uri": "https://localhost:8080/"
        },
        "id": "cyyemqoDSh8V",
        "outputId": "c20079f1-2370-4148-8f09-1248cf136a1a"
      },
      "execution_count": 55,
      "outputs": [
        {
          "output_type": "stream",
          "name": "stdout",
          "text": [
            "           model  year  price transmission  mileage fuelType  tax   mpg  \\\n",
            "0       Series 5  2014  11200    Automatic    67068   Diesel  125  57.6   \n",
            "1       Series 6  2018  27000    Automatic    14827   Petrol  145  42.8   \n",
            "2       Series 5  2016  16000    Automatic    62794   Diesel  160  51.4   \n",
            "3       Series 1  2017  12750    Automatic    26676   Diesel  145  72.4   \n",
            "4       Series 7  2014  14500    Automatic    39554   Diesel  160  50.4   \n",
            "...          ...   ...    ...          ...      ...      ...  ...   ...   \n",
            "10776         X3  2016  19000    Automatic    40818   Diesel  150  54.3   \n",
            "10777   Series 5  2016  14600    Automatic    42947   Diesel  125  60.1   \n",
            "10778   Series 3  2017  13100       Manual    25468   Petrol  200  42.8   \n",
            "10779   Series 1  2014   9930    Automatic    45000   Diesel   30  64.2   \n",
            "10780         X1  2017  15981    Automatic    59432   Diesel  125  57.6   \n",
            "\n",
            "       engineSize  \n",
            "0             2.0  \n",
            "1             2.0  \n",
            "2             3.0  \n",
            "3             1.5  \n",
            "4             3.0  \n",
            "...           ...  \n",
            "10776         2.0  \n",
            "10777         2.0  \n",
            "10778         2.0  \n",
            "10779         2.0  \n",
            "10780         2.0  \n",
            "\n",
            "[10781 rows x 9 columns]\n"
          ]
        }
      ]
    },
    {
      "cell_type": "markdown",
      "source": [
        "Exercise 12:\n",
        "\n",
        "Insert a new sample with the following values: model=\" 3 Series\", year=2023, price = 22572, transmission = \"Automatic\", mileage = 74120, fuelType = \"Diesel\", tax = 160, mpg = 58.4, engineSize = 2.0\n"
      ],
      "metadata": {
        "id": "fiMZcOTlUZDc"
      }
    },
    {
      "cell_type": "code",
      "source": [
        "new_sample = {\n",
        "    'model': '3 Series',\n",
        "    'year': 2023,\n",
        "    'price': 22572,\n",
        "    'transmission': 'Automatic',\n",
        "    'mileage': 74120,\n",
        "    'fuelType': 'Diesel',\n",
        "    'tax': 160,\n",
        "    'mpg': 58.4,\n",
        "    'engineSize': 2.0\n",
        "}\n",
        "new_df = pd.DataFrame([new_sample])\n",
        "df = pd.concat([df, new_df], ignore_index=True)\n",
        "print(df)"
      ],
      "metadata": {
        "colab": {
          "base_uri": "https://localhost:8080/"
        },
        "id": "Q70qkG_qUa6I",
        "outputId": "99a5f255-ecdb-4013-cc07-e6900c8998f3"
      },
      "execution_count": 56,
      "outputs": [
        {
          "output_type": "stream",
          "name": "stdout",
          "text": [
            "           model  year  price transmission  mileage fuelType  tax   mpg  \\\n",
            "0       Series 5  2014  11200    Automatic    67068   Diesel  125  57.6   \n",
            "1       Series 6  2018  27000    Automatic    14827   Petrol  145  42.8   \n",
            "2       Series 5  2016  16000    Automatic    62794   Diesel  160  51.4   \n",
            "3       Series 1  2017  12750    Automatic    26676   Diesel  145  72.4   \n",
            "4       Series 7  2014  14500    Automatic    39554   Diesel  160  50.4   \n",
            "...          ...   ...    ...          ...      ...      ...  ...   ...   \n",
            "10777   Series 5  2016  14600    Automatic    42947   Diesel  125  60.1   \n",
            "10778   Series 3  2017  13100       Manual    25468   Petrol  200  42.8   \n",
            "10779   Series 1  2014   9930    Automatic    45000   Diesel   30  64.2   \n",
            "10780         X1  2017  15981    Automatic    59432   Diesel  125  57.6   \n",
            "10781   3 Series  2023  22572    Automatic    74120   Diesel  160  58.4   \n",
            "\n",
            "       engineSize  \n",
            "0             2.0  \n",
            "1             2.0  \n",
            "2             3.0  \n",
            "3             1.5  \n",
            "4             3.0  \n",
            "...           ...  \n",
            "10777         2.0  \n",
            "10778         2.0  \n",
            "10779         2.0  \n",
            "10780         2.0  \n",
            "10781         2.0  \n",
            "\n",
            "[10782 rows x 9 columns]\n"
          ]
        }
      ]
    },
    {
      "cell_type": "markdown",
      "source": [
        "Exercise 13:\n",
        "\n",
        "Convert the DataFrame into a numpy ndarray and print out the data type of the obtained ndarray.\n"
      ],
      "metadata": {
        "id": "jPq1LLZQaF1u"
      }
    },
    {
      "cell_type": "code",
      "source": [
        "array = df.to_numpy()\n",
        "print(array)\n",
        "print(type(array))"
      ],
      "metadata": {
        "colab": {
          "base_uri": "https://localhost:8080/"
        },
        "id": "DHlF8e5aaIzg",
        "outputId": "e3e6ab3f-8176-4125-fda0-a3c72582f489"
      },
      "execution_count": 44,
      "outputs": [
        {
          "output_type": "stream",
          "name": "stdout",
          "text": [
            "[[' Series 5' 2014 11200 ... 125 57.6 2.0]\n",
            " [' Series 6' 2018 27000 ... 145 42.8 2.0]\n",
            " [' Series 5' 2016 16000 ... 160 51.4 3.0]\n",
            " ...\n",
            " [' X1' 2017 15981 ... 125 57.6 2.0]\n",
            " ['3 Series' 2023 22572 ... 160 58.4 2.0]\n",
            " ['3 Series' 2023 22572 ... 160 58.4 2.0]]\n",
            "<class 'numpy.ndarray'>\n"
          ]
        }
      ]
    },
    {
      "cell_type": "markdown",
      "source": [
        "Exercise 14:\n",
        "\n",
        "Compute for each sample the average mileage per year.\n"
      ],
      "metadata": {
        "id": "DITdc19McXgv"
      }
    },
    {
      "cell_type": "code",
      "source": [
        "from datetime import datetime\n",
        "update_year = datetime.now().year\n",
        "df['years_used'] = update_year - df['year']\n",
        "df['average_mileage_per_year'] = df['mileage'] / df['years_used']\n",
        "print(df)"
      ],
      "metadata": {
        "colab": {
          "base_uri": "https://localhost:8080/"
        },
        "id": "JIGdOFaPcYlD",
        "outputId": "d240cc66-ec74-4251-b5a1-13a16321cd59"
      },
      "execution_count": 58,
      "outputs": [
        {
          "output_type": "stream",
          "name": "stdout",
          "text": [
            "           model  year  price transmission  mileage fuelType  tax   mpg  \\\n",
            "0       Series 5  2014  11200    Automatic    67068   Diesel  125  57.6   \n",
            "1       Series 6  2018  27000    Automatic    14827   Petrol  145  42.8   \n",
            "2       Series 5  2016  16000    Automatic    62794   Diesel  160  51.4   \n",
            "3       Series 1  2017  12750    Automatic    26676   Diesel  145  72.4   \n",
            "4       Series 7  2014  14500    Automatic    39554   Diesel  160  50.4   \n",
            "...          ...   ...    ...          ...      ...      ...  ...   ...   \n",
            "10777   Series 5  2016  14600    Automatic    42947   Diesel  125  60.1   \n",
            "10778   Series 3  2017  13100       Manual    25468   Petrol  200  42.8   \n",
            "10779   Series 1  2014   9930    Automatic    45000   Diesel   30  64.2   \n",
            "10780         X1  2017  15981    Automatic    59432   Diesel  125  57.6   \n",
            "10781   3 Series  2023  22572    Automatic    74120   Diesel  160  58.4   \n",
            "\n",
            "       engineSize  years_used  average_mileage_per_year  \n",
            "0             2.0          10               6706.800000  \n",
            "1             2.0           6               2471.166667  \n",
            "2             3.0           8               7849.250000  \n",
            "3             1.5           7               3810.857143  \n",
            "4             3.0          10               3955.400000  \n",
            "...           ...         ...                       ...  \n",
            "10777         2.0           8               5368.375000  \n",
            "10778         2.0           7               3638.285714  \n",
            "10779         2.0          10               4500.000000  \n",
            "10780         2.0           7               8490.285714  \n",
            "10781         2.0           1              74120.000000  \n",
            "\n",
            "[10782 rows x 11 columns]\n"
          ]
        }
      ]
    }
  ]
}